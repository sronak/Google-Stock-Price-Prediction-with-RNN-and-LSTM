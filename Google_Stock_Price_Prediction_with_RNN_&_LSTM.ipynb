{
 "cells": [
  {
   "cell_type": "markdown",
   "id": "ceca6b66",
   "metadata": {},
   "source": [
    "# **Google Stock Price Prediction with RNN & LSTM**"
   ]
  },
  {
   "cell_type": "code",
   "execution_count": 1,
   "id": "2d4a9004",
   "metadata": {},
   "outputs": [],
   "source": [
    "import numpy as np\n",
    "import pandas as pd\n",
    "import matplotlib.pyplot as plt\n",
    "from sklearn.preprocessing import MinMaxScaler"
   ]
  },
  {
   "cell_type": "code",
   "execution_count": 2,
   "id": "5f0883cc",
   "metadata": {},
   "outputs": [],
   "source": [
    "# Data Preprocessing\n",
    "training_data = pd.read_csv('training_set.csv')\n",
    "training_set = training_data.iloc[:, 1:2].values\n",
    "sc = MinMaxScaler(feature_range=(0,1))\n",
    "training_set_scaled = sc.fit_transform(training_set)\n",
    "x_train = []\n",
    "y_train = []\n",
    "for i in range(60, 1236):\n",
    "    x_train.append(training_set_scaled[i-60:i, 0])\n",
    "    y_train.append(training_set_scaled[i, 0])\n",
    "x_train, y_train = np.array(x_train), np.array(y_train)\n",
    "x_train = x_train.reshape(x_train.shape[0], 60, 1)"
   ]
  },
  {
   "cell_type": "code",
   "execution_count": 3,
   "id": "b58fab1e",
   "metadata": {},
   "outputs": [],
   "source": [
    "# Creating the LSTM model\n",
    "import tensorflow as tf\n",
    "model = tf.keras.models.Sequential([\n",
    "    tf.keras.layers.LSTM(units=50, return_sequences=True, input_shape=(x_train.shape[1], 1)),\n",
    "    tf.keras.layers.Dropout(0.2),\n",
    "    tf.keras.layers.LSTM(units=50, return_sequences=True),\n",
    "    tf.keras.layers.Dropout(0.2),\n",
    "    tf.keras.layers.LSTM(units=50, return_sequences=True),\n",
    "    tf.keras.layers.Dropout(0.2),\n",
    "    tf.keras.layers.LSTM(units=50),\n",
    "    tf.keras.layers.Dropout(0.2),\n",
    "    tf.keras.layers.Dense(units=1)\n",
    "])\n",
    "model.compile(optimizer='adam', loss='mean_squared_error')"
   ]
  },
  {
   "cell_type": "code",
   "execution_count": 4,
   "id": "f5242173",
   "metadata": {
    "scrolled": true
   },
   "outputs": [
    {
     "name": "stdout",
     "output_type": "stream",
     "text": [
      "Epoch 1/100\n",
      "37/37 [==============================] - 8s 58ms/step - loss: 0.0030\n",
      "Epoch 2/100\n",
      "37/37 [==============================] - 2s 57ms/step - loss: 4.6651e-04\n",
      "Epoch 3/100\n",
      "37/37 [==============================] - 2s 57ms/step - loss: 4.4044e-04\n",
      "Epoch 4/100\n",
      "37/37 [==============================] - 2s 56ms/step - loss: 4.4815e-04\n",
      "Epoch 5/100\n",
      "37/37 [==============================] - 2s 56ms/step - loss: 3.8478e-04\n",
      "Epoch 6/100\n",
      "37/37 [==============================] - 2s 57ms/step - loss: 3.5387e-04\n",
      "Epoch 7/100\n",
      "37/37 [==============================] - 2s 57ms/step - loss: 3.9914e-04\n",
      "Epoch 8/100\n",
      "37/37 [==============================] - 2s 58ms/step - loss: 3.6248e-04\n",
      "Epoch 9/100\n",
      "37/37 [==============================] - 2s 57ms/step - loss: 3.6256e-04\n",
      "Epoch 10/100\n",
      "37/37 [==============================] - 2s 58ms/step - loss: 3.2547e-04\n",
      "Epoch 11/100\n",
      "37/37 [==============================] - 2s 57ms/step - loss: 3.7382e-04\n",
      "Epoch 12/100\n",
      "37/37 [==============================] - 2s 56ms/step - loss: 3.2205e-04\n",
      "Epoch 13/100\n",
      "37/37 [==============================] - 2s 56ms/step - loss: 2.9739e-04\n",
      "Epoch 14/100\n",
      "37/37 [==============================] - 2s 56ms/step - loss: 3.3685e-04\n",
      "Epoch 15/100\n",
      "37/37 [==============================] - 2s 56ms/step - loss: 3.1480e-04\n",
      "Epoch 16/100\n",
      "37/37 [==============================] - 2s 56ms/step - loss: 2.8996e-04\n",
      "Epoch 17/100\n",
      "37/37 [==============================] - 2s 57ms/step - loss: 3.3187e-04\n",
      "Epoch 18/100\n",
      "37/37 [==============================] - 2s 59ms/step - loss: 2.7380e-04\n",
      "Epoch 19/100\n",
      "37/37 [==============================] - 2s 58ms/step - loss: 2.6424e-04\n",
      "Epoch 20/100\n",
      "37/37 [==============================] - 2s 60ms/step - loss: 2.9509e-04\n",
      "Epoch 21/100\n",
      "37/37 [==============================] - 2s 60ms/step - loss: 2.4461e-04\n",
      "Epoch 22/100\n",
      "37/37 [==============================] - 2s 58ms/step - loss: 2.6492e-04\n",
      "Epoch 23/100\n",
      "37/37 [==============================] - 2s 56ms/step - loss: 3.1977e-04\n",
      "Epoch 24/100\n",
      "37/37 [==============================] - 2s 57ms/step - loss: 2.6962e-04\n",
      "Epoch 25/100\n",
      "37/37 [==============================] - 2s 57ms/step - loss: 2.6171e-04\n",
      "Epoch 26/100\n",
      "37/37 [==============================] - 2s 57ms/step - loss: 2.4088e-04\n",
      "Epoch 27/100\n",
      "37/37 [==============================] - 2s 58ms/step - loss: 2.3977e-04\n",
      "Epoch 28/100\n",
      "37/37 [==============================] - 3s 77ms/step - loss: 2.3013e-04\n",
      "Epoch 29/100\n",
      "37/37 [==============================] - 2s 57ms/step - loss: 2.4998e-04\n",
      "Epoch 30/100\n",
      "37/37 [==============================] - 2s 56ms/step - loss: 2.4314e-04\n",
      "Epoch 31/100\n",
      "37/37 [==============================] - 2s 56ms/step - loss: 2.3986e-04\n",
      "Epoch 32/100\n",
      "37/37 [==============================] - 2s 56ms/step - loss: 2.2965e-04\n",
      "Epoch 33/100\n",
      "37/37 [==============================] - 2s 56ms/step - loss: 2.2440e-04\n",
      "Epoch 34/100\n",
      "37/37 [==============================] - 2s 56ms/step - loss: 2.0531e-04\n",
      "Epoch 35/100\n",
      "37/37 [==============================] - 2s 58ms/step - loss: 2.2315e-04\n",
      "Epoch 36/100\n",
      "37/37 [==============================] - 2s 58ms/step - loss: 2.6235e-04\n",
      "Epoch 37/100\n",
      "37/37 [==============================] - 2s 58ms/step - loss: 2.2111e-04\n",
      "Epoch 38/100\n",
      "37/37 [==============================] - 2s 58ms/step - loss: 1.9042e-04\n",
      "Epoch 39/100\n",
      "37/37 [==============================] - 2s 58ms/step - loss: 2.0927e-04\n",
      "Epoch 40/100\n",
      "37/37 [==============================] - 2s 57ms/step - loss: 1.9859e-04\n",
      "Epoch 41/100\n",
      "37/37 [==============================] - 2s 57ms/step - loss: 1.9245e-04\n",
      "Epoch 42/100\n",
      "37/37 [==============================] - 2s 57ms/step - loss: 2.1123e-04\n",
      "Epoch 43/100\n",
      "37/37 [==============================] - 2s 57ms/step - loss: 1.9126e-04\n",
      "Epoch 44/100\n",
      "37/37 [==============================] - 2s 58ms/step - loss: 1.8826e-04\n",
      "Epoch 45/100\n",
      "37/37 [==============================] - 2s 58ms/step - loss: 2.1282e-04\n",
      "Epoch 46/100\n",
      "37/37 [==============================] - 2s 68ms/step - loss: 2.0458e-04\n",
      "Epoch 47/100\n",
      "37/37 [==============================] - 3s 76ms/step - loss: 2.0114e-04\n",
      "Epoch 48/100\n",
      "37/37 [==============================] - 2s 67ms/step - loss: 1.8071e-04\n",
      "Epoch 49/100\n",
      "37/37 [==============================] - 3s 78ms/step - loss: 1.8353e-04\n",
      "Epoch 50/100\n",
      "37/37 [==============================] - 3s 78ms/step - loss: 1.8161e-04\n",
      "Epoch 51/100\n",
      "37/37 [==============================] - 3s 78ms/step - loss: 1.9363e-04\n",
      "Epoch 52/100\n",
      "37/37 [==============================] - 2s 60ms/step - loss: 1.9062e-04\n",
      "Epoch 53/100\n",
      "37/37 [==============================] - 2s 57ms/step - loss: 1.7517e-04\n",
      "Epoch 54/100\n",
      "37/37 [==============================] - 2s 57ms/step - loss: 1.7940e-04\n",
      "Epoch 55/100\n",
      "37/37 [==============================] - 2s 57ms/step - loss: 1.6710e-04\n",
      "Epoch 56/100\n",
      "37/37 [==============================] - 2s 56ms/step - loss: 1.7366e-04\n",
      "Epoch 57/100\n",
      "37/37 [==============================] - 2s 59ms/step - loss: 1.7832e-04\n",
      "Epoch 58/100\n",
      "37/37 [==============================] - 2s 58ms/step - loss: 1.6955e-04\n",
      "Epoch 59/100\n",
      "37/37 [==============================] - 2s 57ms/step - loss: 2.0208e-04\n",
      "Epoch 60/100\n",
      "37/37 [==============================] - 2s 58ms/step - loss: 1.6689e-04\n",
      "Epoch 61/100\n",
      "37/37 [==============================] - 2s 57ms/step - loss: 1.5105e-04\n",
      "Epoch 62/100\n",
      "37/37 [==============================] - 2s 62ms/step - loss: 1.5158e-04\n",
      "Epoch 63/100\n",
      "37/37 [==============================] - 2s 60ms/step - loss: 1.5181e-04\n",
      "Epoch 64/100\n",
      "37/37 [==============================] - 3s 72ms/step - loss: 1.5092e-04\n",
      "Epoch 65/100\n",
      "37/37 [==============================] - 2s 63ms/step - loss: 1.5544e-04\n",
      "Epoch 66/100\n",
      "37/37 [==============================] - 2s 57ms/step - loss: 1.6176e-04\n",
      "Epoch 67/100\n",
      "37/37 [==============================] - 2s 58ms/step - loss: 1.5621e-04\n",
      "Epoch 68/100\n",
      "37/37 [==============================] - 2s 58ms/step - loss: 1.5241e-04\n",
      "Epoch 69/100\n",
      "37/37 [==============================] - 2s 59ms/step - loss: 1.5493e-04\n",
      "Epoch 70/100\n",
      "37/37 [==============================] - 2s 58ms/step - loss: 1.3929e-04\n",
      "Epoch 71/100\n",
      "37/37 [==============================] - 2s 63ms/step - loss: 1.6230e-04\n",
      "Epoch 72/100\n",
      "37/37 [==============================] - 3s 68ms/step - loss: 1.3649e-04\n",
      "Epoch 73/100\n",
      "37/37 [==============================] - 2s 64ms/step - loss: 1.4488e-04\n",
      "Epoch 74/100\n",
      "37/37 [==============================] - 2s 61ms/step - loss: 1.6049e-04\n",
      "Epoch 75/100\n",
      "37/37 [==============================] - 3s 69ms/step - loss: 1.7049e-04\n",
      "Epoch 76/100\n",
      "37/37 [==============================] - 2s 60ms/step - loss: 1.4267e-04\n",
      "Epoch 77/100\n",
      "37/37 [==============================] - 2s 61ms/step - loss: 1.4241e-04\n",
      "Epoch 78/100\n",
      "37/37 [==============================] - 2s 58ms/step - loss: 1.3550e-04\n",
      "Epoch 79/100\n",
      "37/37 [==============================] - 2s 57ms/step - loss: 1.2999e-04\n",
      "Epoch 80/100\n",
      "37/37 [==============================] - 2s 58ms/step - loss: 1.3771e-04\n",
      "Epoch 81/100\n",
      "37/37 [==============================] - 2s 58ms/step - loss: 1.3166e-04\n",
      "Epoch 82/100\n",
      "37/37 [==============================] - 2s 58ms/step - loss: 1.3875e-04\n",
      "Epoch 83/100\n",
      "37/37 [==============================] - 2s 59ms/step - loss: 1.2862e-04\n",
      "Epoch 84/100\n",
      "37/37 [==============================] - 2s 58ms/step - loss: 1.3433e-04\n",
      "Epoch 85/100\n",
      "37/37 [==============================] - 2s 58ms/step - loss: 1.2528e-04\n",
      "Epoch 86/100\n",
      "37/37 [==============================] - 2s 57ms/step - loss: 1.2550e-04\n",
      "Epoch 87/100\n",
      "37/37 [==============================] - 2s 57ms/step - loss: 1.2555e-04\n",
      "Epoch 88/100\n",
      "37/37 [==============================] - 2s 57ms/step - loss: 1.4587e-04\n",
      "Epoch 89/100\n",
      "37/37 [==============================] - 2s 58ms/step - loss: 1.3789e-04\n",
      "Epoch 90/100\n",
      "37/37 [==============================] - 2s 58ms/step - loss: 1.2586e-04\n",
      "Epoch 91/100\n",
      "37/37 [==============================] - 2s 58ms/step - loss: 1.2181e-04\n",
      "Epoch 92/100\n",
      "37/37 [==============================] - 2s 58ms/step - loss: 1.1790e-04\n",
      "Epoch 93/100\n",
      "37/37 [==============================] - 2s 59ms/step - loss: 1.3281e-04\n",
      "Epoch 94/100\n",
      "37/37 [==============================] - 2s 58ms/step - loss: 1.3949e-04\n",
      "Epoch 95/100\n",
      "37/37 [==============================] - 2s 59ms/step - loss: 1.3138e-04\n",
      "Epoch 96/100\n",
      "37/37 [==============================] - 2s 58ms/step - loss: 1.3149e-04\n",
      "Epoch 97/100\n",
      "37/37 [==============================] - 2s 57ms/step - loss: 1.2884e-04\n",
      "Epoch 98/100\n",
      "37/37 [==============================] - 2s 59ms/step - loss: 1.2214e-04\n",
      "Epoch 99/100\n",
      "37/37 [==============================] - 2s 58ms/step - loss: 1.2207e-04\n",
      "Epoch 100/100\n",
      "37/37 [==============================] - 2s 58ms/step - loss: 1.3228e-04\n"
     ]
    },
    {
     "data": {
      "text/plain": [
       "<keras.callbacks.History at 0x2511bc5f160>"
      ]
     },
     "execution_count": 4,
     "metadata": {},
     "output_type": "execute_result"
    }
   ],
   "source": [
    "# Training the LSTM model\n",
    "model.fit(x_train, y_train, epochs=100, batch_size=32)"
   ]
  },
  {
   "cell_type": "code",
   "execution_count": 11,
   "id": "dcd848ac",
   "metadata": {},
   "outputs": [
    {
     "name": "stdout",
     "output_type": "stream",
     "text": [
      "1/1 [==============================] - 0s 101ms/step\n"
     ]
    }
   ],
   "source": [
    "# Making Predictions\n",
    "test_data = pd.read_csv('test_set.csv')\n",
    "real_stock_price = test_data.iloc[:, 1:2].values\n",
    "# Getting predicted stock prices of month Mar 2023\n",
    "dataset_total = pd.concat((training_data['Open'], test_data['Open']), axis=0)\n",
    "# stock prices of previous 60 days for each day of Mar 2023\n",
    "inputs = dataset_total[len(dataset_total)-len(test_data)-60:].values\n",
    "inputs = inputs.reshape(-1,1)\n",
    "inputs = sc.transform(inputs)\n",
    "x_test = []\n",
    "for i in range(60, 80):\n",
    "    x_test.append(inputs[i-60:i, 0])\n",
    "x_test = np.array(x_test)\n",
    "x_test = np.reshape(x_test, (x_test.shape[0], x_test.shape[1], 1))\n",
    "predicted_stock_price = model.predict(x_test)\n",
    "predicted_stock_price = sc.inverse_transform(predicted_stock_price)"
   ]
  },
  {
   "cell_type": "code",
   "execution_count": null,
   "id": "3fd19f96",
   "metadata": {},
   "outputs": [],
   "source": [
    "# Making Predictions\n",
    "predicted_stock_price = model.predict(x_test)\n",
    "predicted_stock_price = sc.inverse_transform(predicted_stock_price.reshape(-1, 1))"
   ]
  },
  {
   "cell_type": "code",
   "execution_count": 8,
   "id": "ed59239a",
   "metadata": {},
   "outputs": [
    {
     "data": {
      "image/png": "[encoded data removed]",
      "text/plain": [
       "<Figure size 640x480 with 1 Axes>"
      ]
     },
     "metadata": {},
     "output_type": "display_data"
    }
   ],
   "source": [
    "# Visualizing the Results\n",
    "plt.plot(real_stock_price, color='red', label='Real Stock Price')\n",
    "plt.plot(predicted_stock_price, color='blue', label='Predicted Stock Price')\n",
    "plt.title('Google Stock Price Prediction')\n",
    "plt.xlabel('Time')\n",
    "plt.ylabel('Google Stock Price')\n",
    "plt.legend()\n",
    "plt.show()"
   ]
  },
  {
   "cell_type": "code",
   "execution_count": 9,
   "id": "f745d64b",
   "metadata": {},
   "outputs": [
    {
     "name": "stdout",
     "output_type": "stream",
     "text": [
      "[93.128296]\n",
      "[94.404999]\n"
     ]
    },
    {
     "data": {
      "text/plain": [
       "(None, None)"
      ]
     },
     "execution_count": 9,
     "metadata": {},
     "output_type": "execute_result"
    }
   ],
   "source": [
    "print(predicted_stock_price[5]), print(real_stock_price[5])"
   ]
  }
 ],
 "metadata": {
  "kernelspec": {
   "display_name": "Python 3 (ipykernel)",
   "language": "python",
   "name": "python3"
  },
  "language_info": {
   "codemirror_mode": {
    "name": "ipython",
    "version": 3
   },
   "file_extension": ".py",
   "mimetype": "text/x-python",
   "name": "python",
   "nbconvert_exporter": "python",
   "pygments_lexer": "ipython3",
   "version": "3.10.9"
  },
  "toc": {
   "base_numbering": 1,
   "nav_menu": {},
   "number_sections": false,
   "sideBar": false,
   "skip_h1_title": false,
   "title_cell": "Table of Contents",
   "title_sidebar": "Contents",
   "toc_cell": false,
   "toc_position": {},
   "toc_section_display": false,
   "toc_window_display": false
  }
 },
 "nbformat": 4,
 "nbformat_minor": 5
}
